{
 "cells": [
  {
   "cell_type": "code",
   "execution_count": 1,
   "id": "e5de1c6e",
   "metadata": {},
   "outputs": [
    {
     "name": "stdout",
     "output_type": "stream",
     "text": [
      "Requirement already satisfied: selenium in c:\\users\\asus\\anaconda3\\lib\\site-packages (4.16.0)\n",
      "Requirement already satisfied: urllib3[socks]<3,>=1.26 in c:\\users\\asus\\anaconda3\\lib\\site-packages (from selenium) (1.26.16)\n",
      "Requirement already satisfied: trio~=0.17 in c:\\users\\asus\\anaconda3\\lib\\site-packages (from selenium) (0.23.1)\n",
      "Requirement already satisfied: trio-websocket~=0.9 in c:\\users\\asus\\anaconda3\\lib\\site-packages (from selenium) (0.11.1)\n",
      "Requirement already satisfied: certifi>=2021.10.8 in c:\\users\\asus\\anaconda3\\lib\\site-packages (from selenium) (2023.7.22)\n",
      "Requirement already satisfied: attrs>=20.1.0 in c:\\users\\asus\\anaconda3\\lib\\site-packages (from trio~=0.17->selenium) (22.1.0)\n",
      "Requirement already satisfied: sortedcontainers in c:\\users\\asus\\anaconda3\\lib\\site-packages (from trio~=0.17->selenium) (2.4.0)\n",
      "Requirement already satisfied: idna in c:\\users\\asus\\anaconda3\\lib\\site-packages (from trio~=0.17->selenium) (3.4)\n",
      "Requirement already satisfied: outcome in c:\\users\\asus\\anaconda3\\lib\\site-packages (from trio~=0.17->selenium) (1.3.0.post0)\n",
      "Requirement already satisfied: sniffio>=1.3.0 in c:\\users\\asus\\anaconda3\\lib\\site-packages (from trio~=0.17->selenium) (1.3.0)\n",
      "Requirement already satisfied: cffi>=1.14 in c:\\users\\asus\\anaconda3\\lib\\site-packages (from trio~=0.17->selenium) (1.15.1)\n",
      "Requirement already satisfied: wsproto>=0.14 in c:\\users\\asus\\anaconda3\\lib\\site-packages (from trio-websocket~=0.9->selenium) (1.2.0)\n",
      "Requirement already satisfied: PySocks!=1.5.7,<2.0,>=1.5.6 in c:\\users\\asus\\anaconda3\\lib\\site-packages (from urllib3[socks]<3,>=1.26->selenium) (1.7.1)\n",
      "Requirement already satisfied: pycparser in c:\\users\\asus\\anaconda3\\lib\\site-packages (from cffi>=1.14->trio~=0.17->selenium) (2.21)\n",
      "Requirement already satisfied: h11<1,>=0.9.0 in c:\\users\\asus\\anaconda3\\lib\\site-packages (from wsproto>=0.14->trio-websocket~=0.9->selenium) (0.14.0)\n"
     ]
    }
   ],
   "source": [
    "!pip install selenium"
   ]
  },
  {
   "cell_type": "code",
   "execution_count": 2,
   "id": "f545c336",
   "metadata": {},
   "outputs": [],
   "source": [
    "import selenium\n",
    "import pandas as pd\n",
    "from selenium import webdriver\n",
    "import warnings\n",
    "warnings.filterwarnings('ignore')\n",
    "from selenium.webdriver.common.by import By\n",
    "import time"
   ]
  },
  {
   "cell_type": "code",
   "execution_count": 3,
   "id": "923ab117",
   "metadata": {},
   "outputs": [],
   "source": [
    "driver = webdriver.Chrome()"
   ]
  },
  {
   "cell_type": "code",
   "execution_count": 4,
   "id": "14873e6c",
   "metadata": {},
   "outputs": [],
   "source": [
    "driver.get(\"https://en.wikipedia.org/wiki/List_of_most-viewed_YouTube_videos\")"
   ]
  },
  {
   "cell_type": "code",
   "execution_count": 5,
   "id": "7b7f097e",
   "metadata": {},
   "outputs": [],
   "source": [
    "body = []"
   ]
  },
  {
   "cell_type": "code",
   "execution_count": 6,
   "id": "ebd01358",
   "metadata": {},
   "outputs": [],
   "source": [
    "title_tags = driver.find_elements(By.XPATH,\"/html/body/div[2]/div/div[3]/main/div[3]/div[3]/div[1]/table[1]/tbody\")\n",
    "for i in title_tags:\n",
    "    title = i.text\n",
    "    body.append(title)"
   ]
  },
  {
   "cell_type": "code",
   "execution_count": 7,
   "id": "d8ace267",
   "metadata": {},
   "outputs": [
    {
     "data": {
      "text/plain": [
       "['\"Baby Shark Dance\"[6] Pinkfong Baby Shark - Kids\\' Songs & Stories 13.84 June 17, 2016 [A]\\n\"Despacito\"[9] Luis Fonsi 8.34 January 12, 2017 [B]\\n\"Johny Johny Yes Papa\"[17] LooLoo Kids - Nursery Rhymes and Children\\'s Songs 6.86 October 8, 2016\\n\"Bath Song\"[18] Cocomelon - Nursery Rhymes 6.55 May 2, 2018\\n\"Shape of You\"[19] Ed Sheeran 6.17 January 30, 2017 [C]\\n\"See You Again\"[22] Wiz Khalifa 6.13 April 6, 2015 [D]\\n\"Wheels on the Bus\"[27] Cocomelon - Nursery Rhymes 5.79 May 24, 2018\\n\"Phonics Song with Two Words\"[28] ChuChu TV Nursery Rhymes & Kids Songs 5.63 March 6, 2014\\n\"Uptown Funk\"[29] Mark Ronson 5.12 November 19, 2014\\n\"Learning Colors – Colorful Eggs on a Farm\"[30] Miroshka TV 5.04 February 27, 2018\\n\"Gangnam Style\"[31] Psy 5.00 July 15, 2012 [E]\\n\"Masha and the Bear – Recipe for Disaster\"[36] Get Movies 4.57 January 31, 2012\\n\"Dame Tu Cosita\"[37] Ultra Records 4.51 April 5, 2018\\n\"Axel F\"[38] Crazy Frog 4.24 June 16, 2009\\n\"Sugar\"[39] Maroon 5 3.98 January 14, 2015\\n\"Counting Stars\"[40] OneRepublic 3.94 May 31, 2013\\n\"Roar\"[41] Katy Perry 3.93 September 5, 2013\\n\"Baa Baa Black Sheep\"[42] Cocomelon - Nursery Rhymes 3.90 June 25, 2018\\n\"Lakdi Ki Kathi\"[43] Jingle Toons 3.82 June 14, 2018\\n\"Waka Waka (This Time for Africa)\"[44] Shakira 3.81 June 4, 2010\\n\"Sorry\"[45] Justin Bieber 3.75 October 22, 2015\\n\"Thinking Out Loud\"[46] Ed Sheeran 3.71 October 7, 2014\\n\"Humpty the train on a fruits ride\"[47] Kiddiestv Hindi - Nursery Rhymes & Kids Songs 3.68 January 26, 2018\\n\"Dark Horse\"[48] Katy Perry 3.65 February 20, 2014\\n\"Perfect\"[49] Ed Sheeran 3.63 November 9, 2017\\n\"Shree Hanuman Chalisa\"[50] T-Series Bhakti Sagar 3.61 May 10, 2011\\n\"Let Her Go\"[51] Passenger 3.58 July 25, 2012\\n\"Faded\"[52] Alan Walker 3.57 December 3, 2015\\n\"Girls Like You\"[53] Maroon 5 3.54 May 31, 2018\\n\"Lean On\"[54] Major Lazer Official 3.52 March 22, 2015']"
      ]
     },
     "execution_count": 7,
     "metadata": {},
     "output_type": "execute_result"
    }
   ],
   "source": [
    "body"
   ]
  },
  {
   "cell_type": "code",
   "execution_count": 8,
   "id": "b80d7a12",
   "metadata": {},
   "outputs": [
    {
     "data": {
      "text/html": [
       "<div>\n",
       "<style scoped>\n",
       "    .dataframe tbody tr th:only-of-type {\n",
       "        vertical-align: middle;\n",
       "    }\n",
       "\n",
       "    .dataframe tbody tr th {\n",
       "        vertical-align: top;\n",
       "    }\n",
       "\n",
       "    .dataframe thead th {\n",
       "        text-align: right;\n",
       "    }\n",
       "</style>\n",
       "<table border=\"1\" class=\"dataframe\">\n",
       "  <thead>\n",
       "    <tr style=\"text-align: right;\">\n",
       "      <th></th>\n",
       "      <th>Name Artist Views UploadDate</th>\n",
       "    </tr>\n",
       "  </thead>\n",
       "  <tbody>\n",
       "    <tr>\n",
       "      <th>0</th>\n",
       "      <td>\"Baby Shark Dance\"[6] Pinkfong Baby Shark - Ki...</td>\n",
       "    </tr>\n",
       "  </tbody>\n",
       "</table>\n",
       "</div>"
      ],
      "text/plain": [
       "                        Name Artist Views UploadDate\n",
       "0  \"Baby Shark Dance\"[6] Pinkfong Baby Shark - Ki..."
      ]
     },
     "execution_count": 8,
     "metadata": {},
     "output_type": "execute_result"
    }
   ],
   "source": [
    "import pandas as pd\n",
    "df = pd.DataFrame({'Name Artist Views UploadDate':body})\n",
    "df"
   ]
  },
  {
   "cell_type": "code",
   "execution_count": null,
   "id": "89883641",
   "metadata": {},
   "outputs": [],
   "source": [
    "#2"
   ]
  },
  {
   "cell_type": "code",
   "execution_count": 14,
   "id": "b6cb11c5",
   "metadata": {},
   "outputs": [],
   "source": [
    "driver = webdriver.Chrome()"
   ]
  },
  {
   "cell_type": "code",
   "execution_count": 15,
   "id": "e5f0ec02",
   "metadata": {},
   "outputs": [],
   "source": [
    " driver.get(\"https://www.bcci.tv/fixtures?platform=international&type=men\")"
   ]
  },
  {
   "cell_type": "code",
   "execution_count": 13,
   "id": "682dda66",
   "metadata": {},
   "outputs": [],
   "source": [
    "search = driver.find_element(By.CLASS_NAME,\"border-0 \")\n",
    "search.click()"
   ]
  },
  {
   "cell_type": "code",
   "execution_count": 21,
   "id": "4e34fed1",
   "metadata": {},
   "outputs": [],
   "source": [
    "series_1 = []\n",
    "place_2 = []\n",
    "data_1 = []\n",
    "time_1 = []"
   ]
  },
  {
   "cell_type": "code",
   "execution_count": 25,
   "id": "f53b36e7",
   "metadata": {},
   "outputs": [],
   "source": [
    "seri = driver.find_elements(By.XPATH,'//h5[@class=\"match-tournament-name ng-binding\"]')\n",
    "for i in seri:\n",
    "    series_1.append(i.text)\n"
   ]
  },
  {
   "cell_type": "code",
   "execution_count": 18,
   "id": "8f6a3cc5",
   "metadata": {},
   "outputs": [
    {
     "data": {
      "text/plain": [
       "['AUSTRALIA WOMEN TOUR OF INDIA 2023-24',\n",
       " 'INDIA TOUR OF SOUTH AFRICA 2023-24',\n",
       " 'AUSTRALIA WOMEN TOUR OF INDIA 2023-24',\n",
       " 'AUSTRALIA WOMEN TOUR OF INDIA 2023-24',\n",
       " 'AUSTRALIA WOMEN TOUR OF INDIA 2023-24',\n",
       " 'AFGHANISTAN TOUR OF INDIA 2023-24',\n",
       " 'AFGHANISTAN TOUR OF INDIA 2023-24',\n",
       " 'AFGHANISTAN TOUR OF INDIA 2023-24',\n",
       " 'ENGLAND TOUR OF INDIA 2023-24']"
      ]
     },
     "execution_count": 18,
     "metadata": {},
     "output_type": "execute_result"
    }
   ],
   "source": [
    "series_1"
   ]
  },
  {
   "cell_type": "code",
   "execution_count": 22,
   "id": "52b982ce",
   "metadata": {},
   "outputs": [],
   "source": [
    "plac = driver.find_elements(By.XPATH,'//span[@class=\"ng-binding\"]')\n",
    "for i in plac:\n",
    "    place_2.append(i.text)"
   ]
  },
  {
   "cell_type": "code",
   "execution_count": 28,
   "id": "1c51b97b",
   "metadata": {},
   "outputs": [],
   "source": [
    "dat = driver.find_elements(By.XPATH,'//div[@class=\"match-dates ng-binding\"]')\n",
    "for i in dat:\n",
    "    data_1.append(i.text)"
   ]
  },
  {
   "cell_type": "code",
   "execution_count": 30,
   "id": "f8c69756",
   "metadata": {},
   "outputs": [],
   "source": [
    "tim = driver.find_elements(By.XPATH,'//div[@class=\"match-time no-margin ng-binding\"]')\n",
    "for i in tim:\n",
    "    time_1.append(i.text)"
   ]
  },
  {
   "cell_type": "code",
   "execution_count": 32,
   "id": "55990650",
   "metadata": {},
   "outputs": [
    {
     "data": {
      "text/html": [
       "<div>\n",
       "<style scoped>\n",
       "    .dataframe tbody tr th:only-of-type {\n",
       "        vertical-align: middle;\n",
       "    }\n",
       "\n",
       "    .dataframe tbody tr th {\n",
       "        vertical-align: top;\n",
       "    }\n",
       "\n",
       "    .dataframe thead th {\n",
       "        text-align: right;\n",
       "    }\n",
       "</style>\n",
       "<table border=\"1\" class=\"dataframe\">\n",
       "  <thead>\n",
       "    <tr style=\"text-align: right;\">\n",
       "      <th></th>\n",
       "      <th>Series</th>\n",
       "      <th>Place</th>\n",
       "      <th>Date</th>\n",
       "      <th>Time</th>\n",
       "    </tr>\n",
       "  </thead>\n",
       "  <tbody>\n",
       "    <tr>\n",
       "      <th>0</th>\n",
       "      <td>AUSTRALIA WOMEN TOUR OF INDIA 2023-24</td>\n",
       "      <td>Mumbai</td>\n",
       "      <td>2 JANUARY, 2024</td>\n",
       "      <td>1:30 PM IST</td>\n",
       "    </tr>\n",
       "    <tr>\n",
       "      <th>1</th>\n",
       "      <td>INDIA TOUR OF SOUTH AFRICA 2023-24</td>\n",
       "      <td>Cape Town</td>\n",
       "      <td>3 JANUARY, 2024</td>\n",
       "      <td>1:30 PM IST</td>\n",
       "    </tr>\n",
       "    <tr>\n",
       "      <th>2</th>\n",
       "      <td>AUSTRALIA WOMEN TOUR OF INDIA 2023-24</td>\n",
       "      <td>NAVI MUMBAI</td>\n",
       "      <td>5 JANUARY, 2024</td>\n",
       "      <td>7:00 PM IST</td>\n",
       "    </tr>\n",
       "    <tr>\n",
       "      <th>3</th>\n",
       "      <td>AUSTRALIA WOMEN TOUR OF INDIA 2023-24</td>\n",
       "      <td>NAVI MUMBAI</td>\n",
       "      <td>7 JANUARY, 2024</td>\n",
       "      <td>7:00 PM IST</td>\n",
       "    </tr>\n",
       "    <tr>\n",
       "      <th>4</th>\n",
       "      <td>AUSTRALIA WOMEN TOUR OF INDIA 2023-24</td>\n",
       "      <td>NAVI MUMBAI</td>\n",
       "      <td>9 JANUARY, 2024</td>\n",
       "      <td>7:00 PM IST</td>\n",
       "    </tr>\n",
       "    <tr>\n",
       "      <th>5</th>\n",
       "      <td>AFGHANISTAN TOUR OF INDIA 2023-24</td>\n",
       "      <td>Mohali</td>\n",
       "      <td>11 JANUARY, 2024</td>\n",
       "      <td>7:00 PM IST</td>\n",
       "    </tr>\n",
       "    <tr>\n",
       "      <th>6</th>\n",
       "      <td>AFGHANISTAN TOUR OF INDIA 2023-24</td>\n",
       "      <td>Indore</td>\n",
       "      <td>14 JANUARY, 2024</td>\n",
       "      <td>7:00 PM IST</td>\n",
       "    </tr>\n",
       "    <tr>\n",
       "      <th>7</th>\n",
       "      <td>AFGHANISTAN TOUR OF INDIA 2023-24</td>\n",
       "      <td>Bengaluru</td>\n",
       "      <td>17 JANUARY, 2024</td>\n",
       "      <td>7:00 PM IST</td>\n",
       "    </tr>\n",
       "    <tr>\n",
       "      <th>8</th>\n",
       "      <td>ENGLAND TOUR OF INDIA 2023-24</td>\n",
       "      <td>Hyderabad</td>\n",
       "      <td>25 JANUARY, 2024</td>\n",
       "      <td>9:30 AM IST</td>\n",
       "    </tr>\n",
       "  </tbody>\n",
       "</table>\n",
       "</div>"
      ],
      "text/plain": [
       "                                  Series        Place              Date  \\\n",
       "0  AUSTRALIA WOMEN TOUR OF INDIA 2023-24       Mumbai   2 JANUARY, 2024   \n",
       "1     INDIA TOUR OF SOUTH AFRICA 2023-24    Cape Town   3 JANUARY, 2024   \n",
       "2  AUSTRALIA WOMEN TOUR OF INDIA 2023-24  NAVI MUMBAI   5 JANUARY, 2024   \n",
       "3  AUSTRALIA WOMEN TOUR OF INDIA 2023-24  NAVI MUMBAI   7 JANUARY, 2024   \n",
       "4  AUSTRALIA WOMEN TOUR OF INDIA 2023-24  NAVI MUMBAI   9 JANUARY, 2024   \n",
       "5      AFGHANISTAN TOUR OF INDIA 2023-24       Mohali  11 JANUARY, 2024   \n",
       "6      AFGHANISTAN TOUR OF INDIA 2023-24       Indore  14 JANUARY, 2024   \n",
       "7      AFGHANISTAN TOUR OF INDIA 2023-24    Bengaluru  17 JANUARY, 2024   \n",
       "8          ENGLAND TOUR OF INDIA 2023-24    Hyderabad  25 JANUARY, 2024   \n",
       "\n",
       "          Time  \n",
       "0  1:30 PM IST  \n",
       "1  1:30 PM IST  \n",
       "2  7:00 PM IST  \n",
       "3  7:00 PM IST  \n",
       "4  7:00 PM IST  \n",
       "5  7:00 PM IST  \n",
       "6  7:00 PM IST  \n",
       "7  7:00 PM IST  \n",
       "8  9:30 AM IST  "
      ]
     },
     "execution_count": 32,
     "metadata": {},
     "output_type": "execute_result"
    }
   ],
   "source": [
    "import pandas as pd\n",
    "df = pd.DataFrame({'Series':series_1,'Place':place_2,'Date':data_1,'Time':time_1})\n",
    "df"
   ]
  },
  {
   "cell_type": "code",
   "execution_count": null,
   "id": "ae254292",
   "metadata": {},
   "outputs": [],
   "source": [
    "#3"
   ]
  },
  {
   "cell_type": "code",
   "execution_count": 35,
   "id": "2f485bee",
   "metadata": {},
   "outputs": [],
   "source": [
    "driver = webdriver.Chrome()"
   ]
  },
  {
   "cell_type": "code",
   "execution_count": 36,
   "id": "3e203497",
   "metadata": {},
   "outputs": [],
   "source": [
    "driver.get(\"https://statisticstimes.com/economy/india/indian-states-gdp.php\")"
   ]
  },
  {
   "cell_type": "code",
   "execution_count": 56,
   "id": "92b118f0",
   "metadata": {},
   "outputs": [],
   "source": [
    "state_1 = []\n",
    "gdp_1 = []\n",
    "gdp_2 = []\n",
    "share_1 = []\n",
    "gdp_3 = []"
   ]
  },
  {
   "cell_type": "code",
   "execution_count": 63,
   "id": "77ac3a4f",
   "metadata": {},
   "outputs": [],
   "source": [
    "gdp_4 = []"
   ]
  },
  {
   "cell_type": "code",
   "execution_count": 74,
   "id": "ebc18c32",
   "metadata": {},
   "outputs": [],
   "source": [
    "share_2 = []"
   ]
  },
  {
   "cell_type": "code",
   "execution_count": 57,
   "id": "73df35ef",
   "metadata": {},
   "outputs": [],
   "source": [
    "stat = driver.find_elements(By.XPATH,'//td[@class=\"name\"]')\n",
    "for i in stat[0:33]:\n",
    "    state_1.append(i.text)"
   ]
  },
  {
   "cell_type": "code",
   "execution_count": 60,
   "id": "14552c2b",
   "metadata": {},
   "outputs": [],
   "source": [
    "gd = driver.find_elements(By.XPATH,'//td[@class=\"data sorting_1\"]')\n",
    "for i in gd[0:33]:\n",
    "    gdp_1.append(i.text)"
   ]
  },
  {
   "cell_type": "code",
   "execution_count": 64,
   "id": "366507b3",
   "metadata": {},
   "outputs": [],
   "source": [
    "gdp = driver.find_elements(By.XPATH,'//td[@class=\"data sorting_1\"]')\n",
    "for i in gdp[0:33]:\n",
    "    gdp_4.append(i.text)"
   ]
  },
  {
   "cell_type": "code",
   "execution_count": 76,
   "id": "feb9847f",
   "metadata": {},
   "outputs": [],
   "source": [
    "sha = driver.find_elements(By.XPATH,'//td[@class=\"data sorting_1\"]')\n",
    "for i in sha[0:33]:\n",
    "    share_2.append(i.text)"
   ]
  },
  {
   "cell_type": "code",
   "execution_count": 66,
   "id": "4dd39d83",
   "metadata": {},
   "outputs": [],
   "source": [
    "gdpp = driver.find_elements(By.XPATH,'//td[@class=\"data sorting_1\"]')\n",
    "for i in gdpp[0:33]:\n",
    "    gdp_3.append(i.text)"
   ]
  },
  {
   "cell_type": "code",
   "execution_count": 79,
   "id": "5ccfbc5a",
   "metadata": {},
   "outputs": [
    {
     "data": {
      "text/html": [
       "<div>\n",
       "<style scoped>\n",
       "    .dataframe tbody tr th:only-of-type {\n",
       "        vertical-align: middle;\n",
       "    }\n",
       "\n",
       "    .dataframe tbody tr th {\n",
       "        vertical-align: top;\n",
       "    }\n",
       "\n",
       "    .dataframe thead th {\n",
       "        text-align: right;\n",
       "    }\n",
       "</style>\n",
       "<table border=\"1\" class=\"dataframe\">\n",
       "  <thead>\n",
       "    <tr style=\"text-align: right;\">\n",
       "      <th></th>\n",
       "      <th>State</th>\n",
       "      <th>GSDP(18-19)</th>\n",
       "      <th>GSDP(19-20)</th>\n",
       "      <th>Share</th>\n",
       "      <th>GDP</th>\n",
       "    </tr>\n",
       "  </thead>\n",
       "  <tbody>\n",
       "    <tr>\n",
       "      <th>0</th>\n",
       "      <td>Maharashtra</td>\n",
       "      <td>3,108,022</td>\n",
       "      <td>-</td>\n",
       "      <td>0.04%</td>\n",
       "      <td>417.163</td>\n",
       "    </tr>\n",
       "    <tr>\n",
       "      <th>1</th>\n",
       "      <td>Tamil Nadu</td>\n",
       "      <td>2,071,286</td>\n",
       "      <td>-</td>\n",
       "      <td>0.12%</td>\n",
       "      <td>278.011</td>\n",
       "    </tr>\n",
       "    <tr>\n",
       "      <th>2</th>\n",
       "      <td>Uttar Pradesh</td>\n",
       "      <td>1,974,532</td>\n",
       "      <td>-</td>\n",
       "      <td>0.14%</td>\n",
       "      <td>265.024</td>\n",
       "    </tr>\n",
       "    <tr>\n",
       "      <th>3</th>\n",
       "      <td>Karnataka</td>\n",
       "      <td>1,962,725</td>\n",
       "      <td>-</td>\n",
       "      <td>0.15%</td>\n",
       "      <td>263.440</td>\n",
       "    </tr>\n",
       "    <tr>\n",
       "      <th>4</th>\n",
       "      <td>Gujarat</td>\n",
       "      <td>1,937,066</td>\n",
       "      <td>-</td>\n",
       "      <td>0.16%</td>\n",
       "      <td>259.996</td>\n",
       "    </tr>\n",
       "    <tr>\n",
       "      <th>5</th>\n",
       "      <td>West Bengal</td>\n",
       "      <td>1,363,926</td>\n",
       "      <td>-</td>\n",
       "      <td>0.16%</td>\n",
       "      <td>183.068</td>\n",
       "    </tr>\n",
       "    <tr>\n",
       "      <th>6</th>\n",
       "      <td>Rajasthan</td>\n",
       "      <td>1,218,193</td>\n",
       "      <td>-</td>\n",
       "      <td>0.17%</td>\n",
       "      <td>163.507</td>\n",
       "    </tr>\n",
       "    <tr>\n",
       "      <th>7</th>\n",
       "      <td>Madhya Pradesh</td>\n",
       "      <td>1,136,137</td>\n",
       "      <td>-</td>\n",
       "      <td>0.19%</td>\n",
       "      <td>152.494</td>\n",
       "    </tr>\n",
       "    <tr>\n",
       "      <th>8</th>\n",
       "      <td>Andhra Pradesh</td>\n",
       "      <td>1,133,837</td>\n",
       "      <td>-</td>\n",
       "      <td>0.19%</td>\n",
       "      <td>152.185</td>\n",
       "    </tr>\n",
       "    <tr>\n",
       "      <th>9</th>\n",
       "      <td>Telangana</td>\n",
       "      <td>1,128,907</td>\n",
       "      <td>-</td>\n",
       "      <td>0.27%</td>\n",
       "      <td>151.523</td>\n",
       "    </tr>\n",
       "    <tr>\n",
       "      <th>10</th>\n",
       "      <td>Kerala</td>\n",
       "      <td>932,470</td>\n",
       "      <td>-</td>\n",
       "      <td>0.35%</td>\n",
       "      <td>125.157</td>\n",
       "    </tr>\n",
       "    <tr>\n",
       "      <th>11</th>\n",
       "      <td>Delhi</td>\n",
       "      <td>904,642</td>\n",
       "      <td>42,697</td>\n",
       "      <td>0.75%</td>\n",
       "      <td>121.422</td>\n",
       "    </tr>\n",
       "    <tr>\n",
       "      <th>12</th>\n",
       "      <td>Haryana</td>\n",
       "      <td>870,665</td>\n",
       "      <td>42,756</td>\n",
       "      <td>0.85%</td>\n",
       "      <td>116.862</td>\n",
       "    </tr>\n",
       "    <tr>\n",
       "      <th>13</th>\n",
       "      <td>Odisha</td>\n",
       "      <td>670,881</td>\n",
       "      <td>72,636</td>\n",
       "      <td>1.16%</td>\n",
       "      <td>90.047</td>\n",
       "    </tr>\n",
       "    <tr>\n",
       "      <th>14</th>\n",
       "      <td>Bihar</td>\n",
       "      <td>650,302</td>\n",
       "      <td>195,405</td>\n",
       "      <td>1.53%</td>\n",
       "      <td>87.284</td>\n",
       "    </tr>\n",
       "    <tr>\n",
       "      <th>15</th>\n",
       "      <td>Punjab</td>\n",
       "      <td>614,227</td>\n",
       "      <td>227,927</td>\n",
       "      <td>1.73%</td>\n",
       "      <td>82.442</td>\n",
       "    </tr>\n",
       "    <tr>\n",
       "      <th>16</th>\n",
       "      <td>Assam</td>\n",
       "      <td>412,612</td>\n",
       "      <td>302,621</td>\n",
       "      <td>1.76%</td>\n",
       "      <td>55.381</td>\n",
       "    </tr>\n",
       "    <tr>\n",
       "      <th>17</th>\n",
       "      <td>Chhattisgarh</td>\n",
       "      <td>406,416</td>\n",
       "      <td>393,722</td>\n",
       "      <td>2.62%</td>\n",
       "      <td>54.550</td>\n",
       "    </tr>\n",
       "    <tr>\n",
       "      <th>18</th>\n",
       "      <td>Jharkhand</td>\n",
       "      <td>358,863</td>\n",
       "      <td>457,608</td>\n",
       "      <td>2.77%</td>\n",
       "      <td>48.167</td>\n",
       "    </tr>\n",
       "    <tr>\n",
       "      <th>19</th>\n",
       "      <td>Uttarakhand</td>\n",
       "      <td>272,159</td>\n",
       "      <td>493,167</td>\n",
       "      <td>2.86%</td>\n",
       "      <td>36.530</td>\n",
       "    </tr>\n",
       "    <tr>\n",
       "      <th>20</th>\n",
       "      <td>Jammu &amp; Kashmir-UT</td>\n",
       "      <td>199,917</td>\n",
       "      <td>673,107</td>\n",
       "      <td>3.71%</td>\n",
       "      <td>26.833</td>\n",
       "    </tr>\n",
       "    <tr>\n",
       "      <th>21</th>\n",
       "      <td>Himachal Pradesh</td>\n",
       "      <td>176,269</td>\n",
       "      <td>751,396</td>\n",
       "      <td>3.85%</td>\n",
       "      <td>23.659</td>\n",
       "    </tr>\n",
       "    <tr>\n",
       "      <th>22</th>\n",
       "      <td>Goa</td>\n",
       "      <td>82,604</td>\n",
       "      <td>774,869</td>\n",
       "      <td>3.97%</td>\n",
       "      <td>11.087</td>\n",
       "    </tr>\n",
       "    <tr>\n",
       "      <th>23</th>\n",
       "      <td>Tripura</td>\n",
       "      <td>62,550</td>\n",
       "      <td>994,154</td>\n",
       "      <td>4.81%</td>\n",
       "      <td>8.396</td>\n",
       "    </tr>\n",
       "    <tr>\n",
       "      <th>24</th>\n",
       "      <td>Chandigarh</td>\n",
       "      <td>45,635</td>\n",
       "      <td>1,043,759</td>\n",
       "      <td>4.83%</td>\n",
       "      <td>6.125</td>\n",
       "    </tr>\n",
       "    <tr>\n",
       "      <th>25</th>\n",
       "      <td>Puducherry</td>\n",
       "      <td>44,238</td>\n",
       "      <td>1,313,391</td>\n",
       "      <td>4.84%</td>\n",
       "      <td>5.938</td>\n",
       "    </tr>\n",
       "    <tr>\n",
       "      <th>26</th>\n",
       "      <td>Meghalaya</td>\n",
       "      <td>38,785</td>\n",
       "      <td>1,317,728</td>\n",
       "      <td>5.19%</td>\n",
       "      <td>5.206</td>\n",
       "    </tr>\n",
       "    <tr>\n",
       "      <th>27</th>\n",
       "      <td>Sikkim</td>\n",
       "      <td>37,557</td>\n",
       "      <td>1,322,821</td>\n",
       "      <td>5.81%</td>\n",
       "      <td>5.041</td>\n",
       "    </tr>\n",
       "    <tr>\n",
       "      <th>28</th>\n",
       "      <td>Manipur</td>\n",
       "      <td>36,594</td>\n",
       "      <td>1,413,620</td>\n",
       "      <td>8.25%</td>\n",
       "      <td>4.912</td>\n",
       "    </tr>\n",
       "    <tr>\n",
       "      <th>29</th>\n",
       "      <td>Arunachal Pradesh</td>\n",
       "      <td>35,124</td>\n",
       "      <td>1,554,992</td>\n",
       "      <td>8.36%</td>\n",
       "      <td>4.714</td>\n",
       "    </tr>\n",
       "    <tr>\n",
       "      <th>30</th>\n",
       "      <td>Nagaland</td>\n",
       "      <td>31,913</td>\n",
       "      <td>2,241,368</td>\n",
       "      <td>8.41%</td>\n",
       "      <td>4.283</td>\n",
       "    </tr>\n",
       "    <tr>\n",
       "      <th>31</th>\n",
       "      <td>Mizoram</td>\n",
       "      <td>27,824</td>\n",
       "      <td>2,257,575</td>\n",
       "      <td>8.82%</td>\n",
       "      <td>3.735</td>\n",
       "    </tr>\n",
       "    <tr>\n",
       "      <th>32</th>\n",
       "      <td>Andaman &amp; Nicobar Islands</td>\n",
       "      <td>10,371</td>\n",
       "      <td>2,364,514</td>\n",
       "      <td>13.24%</td>\n",
       "      <td>1.392</td>\n",
       "    </tr>\n",
       "  </tbody>\n",
       "</table>\n",
       "</div>"
      ],
      "text/plain": [
       "                        State GSDP(18-19) GSDP(19-20)   Share      GDP\n",
       "0                 Maharashtra   3,108,022           -   0.04%  417.163\n",
       "1                  Tamil Nadu   2,071,286           -   0.12%  278.011\n",
       "2               Uttar Pradesh   1,974,532           -   0.14%  265.024\n",
       "3                   Karnataka   1,962,725           -   0.15%  263.440\n",
       "4                     Gujarat   1,937,066           -   0.16%  259.996\n",
       "5                 West Bengal   1,363,926           -   0.16%  183.068\n",
       "6                   Rajasthan   1,218,193           -   0.17%  163.507\n",
       "7              Madhya Pradesh   1,136,137           -   0.19%  152.494\n",
       "8              Andhra Pradesh   1,133,837           -   0.19%  152.185\n",
       "9                   Telangana   1,128,907           -   0.27%  151.523\n",
       "10                     Kerala     932,470           -   0.35%  125.157\n",
       "11                      Delhi     904,642      42,697   0.75%  121.422\n",
       "12                    Haryana     870,665      42,756   0.85%  116.862\n",
       "13                     Odisha     670,881      72,636   1.16%   90.047\n",
       "14                      Bihar     650,302     195,405   1.53%   87.284\n",
       "15                     Punjab     614,227     227,927   1.73%   82.442\n",
       "16                      Assam     412,612     302,621   1.76%   55.381\n",
       "17               Chhattisgarh     406,416     393,722   2.62%   54.550\n",
       "18                  Jharkhand     358,863     457,608   2.77%   48.167\n",
       "19                Uttarakhand     272,159     493,167   2.86%   36.530\n",
       "20         Jammu & Kashmir-UT     199,917     673,107   3.71%   26.833\n",
       "21           Himachal Pradesh     176,269     751,396   3.85%   23.659\n",
       "22                        Goa      82,604     774,869   3.97%   11.087\n",
       "23                    Tripura      62,550     994,154   4.81%    8.396\n",
       "24                 Chandigarh      45,635   1,043,759   4.83%    6.125\n",
       "25                 Puducherry      44,238   1,313,391   4.84%    5.938\n",
       "26                  Meghalaya      38,785   1,317,728   5.19%    5.206\n",
       "27                     Sikkim      37,557   1,322,821   5.81%    5.041\n",
       "28                    Manipur      36,594   1,413,620   8.25%    4.912\n",
       "29          Arunachal Pradesh      35,124   1,554,992   8.36%    4.714\n",
       "30                   Nagaland      31,913   2,241,368   8.41%    4.283\n",
       "31                    Mizoram      27,824   2,257,575   8.82%    3.735\n",
       "32  Andaman & Nicobar Islands      10,371   2,364,514  13.24%    1.392"
      ]
     },
     "execution_count": 79,
     "metadata": {},
     "output_type": "execute_result"
    }
   ],
   "source": [
    "import pandas as pd\n",
    "df = pd.DataFrame({'State':state_1,'GSDP(18-19)':gdp_1,'GSDP(19-20)':gdp_4,'Share':share_2,'GDP':gdp_3})\n",
    "df"
   ]
  },
  {
   "cell_type": "code",
   "execution_count": 78,
   "id": "8e57bcfb",
   "metadata": {},
   "outputs": [
    {
     "name": "stdout",
     "output_type": "stream",
     "text": [
      "33 33 33 33 33\n"
     ]
    }
   ],
   "source": [
    "print(len(state_1),len(gdp_1),len(gdp_4),len(share_2),len(gdp_3))"
   ]
  },
  {
   "cell_type": "code",
   "execution_count": null,
   "id": "8f5ae78d",
   "metadata": {},
   "outputs": [],
   "source": [
    "#4"
   ]
  },
  {
   "cell_type": "code",
   "execution_count": 80,
   "id": "4736d1bc",
   "metadata": {},
   "outputs": [],
   "source": [
    "driver = webdriver.Chrome()"
   ]
  },
  {
   "cell_type": "code",
   "execution_count": 82,
   "id": "d0d9ace3",
   "metadata": {},
   "outputs": [],
   "source": [
    "driver.get(\"https://github.com/trending\")"
   ]
  },
  {
   "cell_type": "code",
   "execution_count": 83,
   "id": "9b8d1d67",
   "metadata": {},
   "outputs": [],
   "source": [
    "title_3 = []\n",
    "des_1 = []\n",
    "count_1 = []\n",
    "lang_1 = []"
   ]
  },
  {
   "cell_type": "code",
   "execution_count": 109,
   "id": "920c5922",
   "metadata": {},
   "outputs": [],
   "source": [
    "count_2 = []\n",
    "title_4 = []\n",
    "\n",
    "lang_2 = []\n"
   ]
  },
  {
   "cell_type": "code",
   "execution_count": 98,
   "id": "4299ff90",
   "metadata": {},
   "outputs": [],
   "source": [
    "des_2 = []"
   ]
  },
  {
   "cell_type": "code",
   "execution_count": 110,
   "id": "c5c3324c",
   "metadata": {},
   "outputs": [],
   "source": [
    "titl = driver.find_elements(By.XPATH,'//span[@class=\"text-normal\"]')\n",
    "for i in titl[0:20]:\n",
    "    title_4.append(i.text)"
   ]
  },
  {
   "cell_type": "code",
   "execution_count": 99,
   "id": "1b13c666",
   "metadata": {},
   "outputs": [],
   "source": [
    "desc = driver.find_elements(By.XPATH,'//p[@class=\"col-9 color-fg-muted my-1 pr-4\"]')\n",
    "for i in desc[0:20]:\n",
    "    des_2.append(i.text)"
   ]
  },
  {
   "cell_type": "code",
   "execution_count": 117,
   "id": "8158413d",
   "metadata": {},
   "outputs": [],
   "source": [
    "len = driver.find_elements(By.XPATH,'//p[@class=\"col-9 color-fg-muted my-1 pr-4\"]')\n",
    "for i in len[0:20]:\n",
    "    lang_2.append(i.text)"
   ]
  },
  {
   "cell_type": "code",
   "execution_count": 112,
   "id": "563efa85",
   "metadata": {},
   "outputs": [],
   "source": [
    "count = driver.find_elements(By.XPATH,'//p[@class=\"col-9 color-fg-muted my-1 pr-4\"]')\n",
    "for i in count[0:20]:\n",
    "    count_2.append(i.text)"
   ]
  },
  {
   "cell_type": "code",
   "execution_count": 118,
   "id": "9332cfc0",
   "metadata": {},
   "outputs": [
    {
     "name": "stdout",
     "output_type": "stream",
     "text": [
      "20 20 20 20\n"
     ]
    }
   ],
   "source": [
    "print(len(des_2),len(title_4),len(count_2),len(lang_2))"
   ]
  },
  {
   "cell_type": "code",
   "execution_count": 119,
   "id": "3882b58f",
   "metadata": {},
   "outputs": [
    {
     "data": {
      "text/html": [
       "<div>\n",
       "<style scoped>\n",
       "    .dataframe tbody tr th:only-of-type {\n",
       "        vertical-align: middle;\n",
       "    }\n",
       "\n",
       "    .dataframe tbody tr th {\n",
       "        vertical-align: top;\n",
       "    }\n",
       "\n",
       "    .dataframe thead th {\n",
       "        text-align: right;\n",
       "    }\n",
       "</style>\n",
       "<table border=\"1\" class=\"dataframe\">\n",
       "  <thead>\n",
       "    <tr style=\"text-align: right;\">\n",
       "      <th></th>\n",
       "      <th>Repository title</th>\n",
       "      <th>Repository description</th>\n",
       "      <th>Contributors count</th>\n",
       "      <th>Language</th>\n",
       "    </tr>\n",
       "  </thead>\n",
       "  <tbody>\n",
       "    <tr>\n",
       "      <th>0</th>\n",
       "      <td>movie-web /</td>\n",
       "      <td>A small web app for watching movies and shows ...</td>\n",
       "      <td>2,044 stars today</td>\n",
       "      <td>TypeScript</td>\n",
       "    </tr>\n",
       "    <tr>\n",
       "      <th>1</th>\n",
       "      <td>donnemartin /</td>\n",
       "      <td>Learn how to design large-scale systems. Prep ...</td>\n",
       "      <td>138 stars today</td>\n",
       "      <td>Python</td>\n",
       "    </tr>\n",
       "    <tr>\n",
       "      <th>2</th>\n",
       "      <td>KRTirtho /</td>\n",
       "      <td>🎧 Open source Spotify client that doesn't requ...</td>\n",
       "      <td>604 stars today</td>\n",
       "      <td>Dart</td>\n",
       "    </tr>\n",
       "    <tr>\n",
       "      <th>3</th>\n",
       "      <td>lllyasviel /</td>\n",
       "      <td>Focus on prompting and generating</td>\n",
       "      <td>75 stars today</td>\n",
       "      <td>Python</td>\n",
       "    </tr>\n",
       "    <tr>\n",
       "      <th>4</th>\n",
       "      <td>Universidade-Livre /</td>\n",
       "      <td>Na Rinha de Algoritmos você deve utilizar suas...</td>\n",
       "      <td>21 stars today</td>\n",
       "      <td>JavaScript</td>\n",
       "    </tr>\n",
       "    <tr>\n",
       "      <th>5</th>\n",
       "      <td>mlabonne /</td>\n",
       "      <td>Course to get into Large Language Models (LLMs...</td>\n",
       "      <td>347 stars today</td>\n",
       "      <td>Jupyter Notebook</td>\n",
       "    </tr>\n",
       "    <tr>\n",
       "      <th>6</th>\n",
       "      <td>successfulstudy /</td>\n",
       "      <td>In the evolving world of Large Language Models...</td>\n",
       "      <td>252 stars today</td>\n",
       "      <td>C</td>\n",
       "    </tr>\n",
       "    <tr>\n",
       "      <th>7</th>\n",
       "      <td>flowdriveai /</td>\n",
       "      <td>flow-pilot is an openpilot based driver assist...</td>\n",
       "      <td>114 stars today</td>\n",
       "      <td>Python</td>\n",
       "    </tr>\n",
       "    <tr>\n",
       "      <th>8</th>\n",
       "      <td>paperless-ngx /</td>\n",
       "      <td>A community-supported supercharged version of ...</td>\n",
       "      <td>62 stars today</td>\n",
       "      <td>TypeScript</td>\n",
       "    </tr>\n",
       "    <tr>\n",
       "      <th>9</th>\n",
       "      <td>krishnaik06 /</td>\n",
       "      <td>Building a modern alternative to Salesforce, p...</td>\n",
       "      <td>55 stars today</td>\n",
       "      <td>Python</td>\n",
       "    </tr>\n",
       "    <tr>\n",
       "      <th>10</th>\n",
       "      <td>twentyhq /</td>\n",
       "      <td> Now we have become very big, Different from ...</td>\n",
       "      <td>333 stars today</td>\n",
       "      <td>JavaScript</td>\n",
       "    </tr>\n",
       "    <tr>\n",
       "      <th>11</th>\n",
       "      <td>joaomdmoura /</td>\n",
       "      <td>Telegram for Android source</td>\n",
       "      <td>152 stars today</td>\n",
       "      <td>Java</td>\n",
       "    </tr>\n",
       "    <tr>\n",
       "      <th>12</th>\n",
       "      <td>jaywcjlove /</td>\n",
       "      <td>Explore, analyze, and gain valuable data &amp; ins...</td>\n",
       "      <td>155 stars today</td>\n",
       "      <td>JavaScript</td>\n",
       "    </tr>\n",
       "    <tr>\n",
       "      <th>13</th>\n",
       "      <td>DrKLO /</td>\n",
       "      <td>Bitcoin Core integration/staging tree</td>\n",
       "      <td>15 stars today</td>\n",
       "      <td>Shell</td>\n",
       "    </tr>\n",
       "    <tr>\n",
       "      <th>14</th>\n",
       "      <td>safak /</td>\n",
       "      <td>freeCodeCamp.org's open-source codebase and cu...</td>\n",
       "      <td>5 stars today</td>\n",
       "      <td>C++</td>\n",
       "    </tr>\n",
       "    <tr>\n",
       "      <th>15</th>\n",
       "      <td>anasfik /</td>\n",
       "      <td>Atomicals CLI and Javascript Library</td>\n",
       "      <td>105 stars today</td>\n",
       "      <td>TypeScript</td>\n",
       "    </tr>\n",
       "    <tr>\n",
       "      <th>16</th>\n",
       "      <td>Tongji-KGLLM /</td>\n",
       "      <td>openpilot is an open source driver assistance ...</td>\n",
       "      <td>19 stars today</td>\n",
       "      <td>TypeScript</td>\n",
       "    </tr>\n",
       "    <tr>\n",
       "      <th>17</th>\n",
       "      <td>bitcoin /</td>\n",
       "      <td>Papers from the computer science community to ...</td>\n",
       "      <td>22 stars today</td>\n",
       "      <td>Python</td>\n",
       "    </tr>\n",
       "    <tr>\n",
       "      <th>18</th>\n",
       "      <td>freeCodeCamp /</td>\n",
       "      <td>Omakase Ruby styling for Rails</td>\n",
       "      <td>87 stars today</td>\n",
       "      <td>Shell</td>\n",
       "    </tr>\n",
       "    <tr>\n",
       "      <th>19</th>\n",
       "      <td>atomicals /</td>\n",
       "      <td>lua `fork` of vim-web-devicons for neovim</td>\n",
       "      <td>27 stars today</td>\n",
       "      <td>Ruby</td>\n",
       "    </tr>\n",
       "  </tbody>\n",
       "</table>\n",
       "</div>"
      ],
      "text/plain": [
       "        Repository title                             Repository description  \\\n",
       "0            movie-web /  A small web app for watching movies and shows ...   \n",
       "1          donnemartin /  Learn how to design large-scale systems. Prep ...   \n",
       "2             KRTirtho /  🎧 Open source Spotify client that doesn't requ...   \n",
       "3           lllyasviel /                  Focus on prompting and generating   \n",
       "4   Universidade-Livre /  Na Rinha de Algoritmos você deve utilizar suas...   \n",
       "5             mlabonne /  Course to get into Large Language Models (LLMs...   \n",
       "6      successfulstudy /  In the evolving world of Large Language Models...   \n",
       "7          flowdriveai /  flow-pilot is an openpilot based driver assist...   \n",
       "8        paperless-ngx /  A community-supported supercharged version of ...   \n",
       "9          krishnaik06 /  Building a modern alternative to Salesforce, p...   \n",
       "10            twentyhq /   Now we have become very big, Different from ...   \n",
       "11         joaomdmoura /                        Telegram for Android source   \n",
       "12          jaywcjlove /  Explore, analyze, and gain valuable data & ins...   \n",
       "13               DrKLO /              Bitcoin Core integration/staging tree   \n",
       "14               safak /  freeCodeCamp.org's open-source codebase and cu...   \n",
       "15             anasfik /               Atomicals CLI and Javascript Library   \n",
       "16        Tongji-KGLLM /  openpilot is an open source driver assistance ...   \n",
       "17             bitcoin /  Papers from the computer science community to ...   \n",
       "18        freeCodeCamp /                     Omakase Ruby styling for Rails   \n",
       "19           atomicals /          lua `fork` of vim-web-devicons for neovim   \n",
       "\n",
       "   Contributors count          Language  \n",
       "0   2,044 stars today        TypeScript  \n",
       "1     138 stars today            Python  \n",
       "2     604 stars today              Dart  \n",
       "3      75 stars today            Python  \n",
       "4      21 stars today        JavaScript  \n",
       "5     347 stars today  Jupyter Notebook  \n",
       "6     252 stars today                 C  \n",
       "7     114 stars today            Python  \n",
       "8      62 stars today        TypeScript  \n",
       "9      55 stars today            Python  \n",
       "10    333 stars today        JavaScript  \n",
       "11    152 stars today              Java  \n",
       "12    155 stars today        JavaScript  \n",
       "13     15 stars today             Shell  \n",
       "14      5 stars today               C++  \n",
       "15    105 stars today        TypeScript  \n",
       "16     19 stars today        TypeScript  \n",
       "17     22 stars today            Python  \n",
       "18     87 stars today             Shell  \n",
       "19     27 stars today              Ruby  "
      ]
     },
     "execution_count": 119,
     "metadata": {},
     "output_type": "execute_result"
    }
   ],
   "source": [
    "import pandas as pd\n",
    "df = pd.DataFrame({'Repository title':title_4,'Repository description':des_2,'Contributors count':count_2,'Language':lang_2})\n",
    "df"
   ]
  },
  {
   "cell_type": "code",
   "execution_count": null,
   "id": "a0a68bc5",
   "metadata": {},
   "outputs": [],
   "source": [
    "#5"
   ]
  },
  {
   "cell_type": "code",
   "execution_count": 3,
   "id": "f8194d9a",
   "metadata": {},
   "outputs": [],
   "source": [
    "driver = webdriver.Chrome()"
   ]
  },
  {
   "cell_type": "code",
   "execution_count": 6,
   "id": "ec6d3eed",
   "metadata": {},
   "outputs": [],
   "source": [
    "driver.get(\"https://www.billboard.com/charts/hot-100/\")"
   ]
  },
  {
   "cell_type": "code",
   "execution_count": 7,
   "id": "46b16943",
   "metadata": {},
   "outputs": [],
   "source": [
    "song_1 =[]\n",
    "artist_1 = []\n",
    "last_1 = []\n",
    "peak_1 = []\n",
    "weeks_1 = []"
   ]
  },
  {
   "cell_type": "code",
   "execution_count": 8,
   "id": "4752f090",
   "metadata": {},
   "outputs": [],
   "source": [
    "song = driver.find_elements(By.XPATH,'//h3[@class=\"c-title  a-no-trucate a-font-primary-bold-s u-letter-spacing-0021 lrv-u-font-size-18@tablet lrv-u-font-size-16 u-line-height-125 u-line-height-normal@mobile-max a-truncate-ellipsis u-max-width-330 u-max-width-230@tablet-only\"]')\n",
    "for i in song:\n",
    "    song_1.append(i.text)"
   ]
  },
  {
   "cell_type": "code",
   "execution_count": 10,
   "id": "b0541195",
   "metadata": {},
   "outputs": [],
   "source": [
    "artist = driver.find_elements(By.XPATH,'//span[@class=\"c-label  a-no-trucate a-font-primary-s lrv-u-font-size-14@mobile-max u-line-height-normal@mobile-max u-letter-spacing-0021 lrv-u-display-block a-truncate-ellipsis-2line u-max-width-330 u-max-width-230@tablet-only\"]')\n",
    "for i in artist:\n",
    "    artist_1.append(i.text)"
   ]
  },
  {
   "cell_type": "code",
   "execution_count": 12,
   "id": "ed5a3fe5",
   "metadata": {},
   "outputs": [],
   "source": [
    "last = driver.find_elements(By.XPATH,'//ul[@class=\"lrv-a-unstyle-list lrv-u-flex lrv-u-height-100p lrv-u-flex-direction-column@mobile-max\"]')\n",
    "for i in last:\n",
    "    last_1.append(i.text)"
   ]
  },
  {
   "cell_type": "code",
   "execution_count": 14,
   "id": "05fe1633",
   "metadata": {},
   "outputs": [
    {
     "data": {
      "text/html": [
       "<div>\n",
       "<style scoped>\n",
       "    .dataframe tbody tr th:only-of-type {\n",
       "        vertical-align: middle;\n",
       "    }\n",
       "\n",
       "    .dataframe tbody tr th {\n",
       "        vertical-align: top;\n",
       "    }\n",
       "\n",
       "    .dataframe thead th {\n",
       "        text-align: right;\n",
       "    }\n",
       "</style>\n",
       "<table border=\"1\" class=\"dataframe\">\n",
       "  <thead>\n",
       "    <tr style=\"text-align: right;\">\n",
       "      <th></th>\n",
       "      <th>song name, artist, last week rank,peel rank, week on chart</th>\n",
       "    </tr>\n",
       "  </thead>\n",
       "  <tbody>\n",
       "    <tr>\n",
       "      <th>0</th>\n",
       "      <td>All I Want For Christmas Is You\\nMariah Carey\\...</td>\n",
       "    </tr>\n",
       "    <tr>\n",
       "      <th>1</th>\n",
       "      <td>Rockin' Around The Christmas Tree\\nBrenda Lee\\...</td>\n",
       "    </tr>\n",
       "    <tr>\n",
       "      <th>2</th>\n",
       "      <td>Jingle Bell Rock\\nBobby Helms\\n3\\n3\\n55</td>\n",
       "    </tr>\n",
       "    <tr>\n",
       "      <th>3</th>\n",
       "      <td>Last Christmas\\nWham!\\n4\\n4\\n37</td>\n",
       "    </tr>\n",
       "    <tr>\n",
       "      <th>4</th>\n",
       "      <td>A Holly Jolly Christmas\\nBurl Ives\\n5\\n4\\n38</td>\n",
       "    </tr>\n",
       "    <tr>\n",
       "      <th>...</th>\n",
       "      <td>...</td>\n",
       "    </tr>\n",
       "    <tr>\n",
       "      <th>95</th>\n",
       "      <td>Winter Wonderland\\nChloe\\n-\\n96\\n1</td>\n",
       "    </tr>\n",
       "    <tr>\n",
       "      <th>96</th>\n",
       "      <td>Run For The Hills\\nTate McRae\\n69\\n69\\n2</td>\n",
       "    </tr>\n",
       "    <tr>\n",
       "      <th>97</th>\n",
       "      <td>Que Onda\\nCalle 24 x Chino Pacas x Fuerza Regi...</td>\n",
       "    </tr>\n",
       "    <tr>\n",
       "      <th>98</th>\n",
       "      <td>Great Gatsby\\nRod Wave\\n-\\n30\\n13</td>\n",
       "    </tr>\n",
       "    <tr>\n",
       "      <th>99</th>\n",
       "      <td>One Of The Girls\\nThe Weeknd, JENNIE &amp; Lily Ro...</td>\n",
       "    </tr>\n",
       "  </tbody>\n",
       "</table>\n",
       "<p>100 rows × 1 columns</p>\n",
       "</div>"
      ],
      "text/plain": [
       "   song name, artist, last week rank,peel rank, week on chart\n",
       "0   All I Want For Christmas Is You\\nMariah Carey\\...        \n",
       "1   Rockin' Around The Christmas Tree\\nBrenda Lee\\...        \n",
       "2             Jingle Bell Rock\\nBobby Helms\\n3\\n3\\n55        \n",
       "3                     Last Christmas\\nWham!\\n4\\n4\\n37        \n",
       "4        A Holly Jolly Christmas\\nBurl Ives\\n5\\n4\\n38        \n",
       "..                                                ...        \n",
       "95                 Winter Wonderland\\nChloe\\n-\\n96\\n1        \n",
       "96           Run For The Hills\\nTate McRae\\n69\\n69\\n2        \n",
       "97  Que Onda\\nCalle 24 x Chino Pacas x Fuerza Regi...        \n",
       "98                  Great Gatsby\\nRod Wave\\n-\\n30\\n13        \n",
       "99  One Of The Girls\\nThe Weeknd, JENNIE & Lily Ro...        \n",
       "\n",
       "[100 rows x 1 columns]"
      ]
     },
     "execution_count": 14,
     "metadata": {},
     "output_type": "execute_result"
    }
   ],
   "source": [
    "import pandas as pd\n",
    "df = pd.DataFrame({'song name, artist, last week rank,peel rank, week on chart':last_1})\n",
    "df\n"
   ]
  },
  {
   "cell_type": "code",
   "execution_count": null,
   "id": "8f27a4de",
   "metadata": {},
   "outputs": [],
   "source": [
    "#6"
   ]
  },
  {
   "cell_type": "code",
   "execution_count": 15,
   "id": "3d972b3c",
   "metadata": {},
   "outputs": [],
   "source": [
    "driver = webdriver.Chrome()"
   ]
  },
  {
   "cell_type": "code",
   "execution_count": 16,
   "id": "d598a8d2",
   "metadata": {},
   "outputs": [],
   "source": [
    "driver.get(\"https://www.theguardian.com/news/datablog/2012/aug/09/best-selling-books-all-time-fifty-shades-grey-compare\")"
   ]
  },
  {
   "cell_type": "code",
   "execution_count": null,
   "id": "07f3acc8",
   "metadata": {},
   "outputs": [],
   "source": [
    "#7"
   ]
  },
  {
   "cell_type": "code",
   "execution_count": 17,
   "id": "8eacee28",
   "metadata": {},
   "outputs": [],
   "source": [
    "driver = webdriver.Chrome()"
   ]
  },
  {
   "cell_type": "code",
   "execution_count": 20,
   "id": "6d598db5",
   "metadata": {},
   "outputs": [],
   "source": [
    "driver.get(\"https://www.imdb.com/list/ls095964455/\")"
   ]
  },
  {
   "cell_type": "code",
   "execution_count": 21,
   "id": "29f15370",
   "metadata": {},
   "outputs": [],
   "source": [
    "#requqest url not found "
   ]
  },
  {
   "cell_type": "code",
   "execution_count": 22,
   "id": "ec38296e",
   "metadata": {},
   "outputs": [],
   "source": [
    "#8"
   ]
  },
  {
   "cell_type": "code",
   "execution_count": 23,
   "id": "fa3564ee",
   "metadata": {},
   "outputs": [],
   "source": [
    "driver = webdriver.Chrome()"
   ]
  },
  {
   "cell_type": "code",
   "execution_count": 24,
   "id": "894ec73e",
   "metadata": {},
   "outputs": [],
   "source": [
    "driver.get(\"https://archive.ics.uci.edu\")"
   ]
  },
  {
   "cell_type": "code",
   "execution_count": 25,
   "id": "c706579d",
   "metadata": {},
   "outputs": [],
   "source": [
    "data_2 = []\n",
    "des_4 = []\n",
    "attr_1 = []"
   ]
  },
  {
   "cell_type": "code",
   "execution_count": 26,
   "id": "9578d9ba",
   "metadata": {},
   "outputs": [],
   "source": [
    "dataa = driver.find_elements(By.XPATH,'//a[@class=\"link-hover link text-xl font-semibold\"]')\n",
    "for i in dataa:\n",
    "    data_2.append(i.text)"
   ]
  },
  {
   "cell_type": "code",
   "execution_count": 28,
   "id": "476c194a",
   "metadata": {},
   "outputs": [],
   "source": [
    "desc = driver.find_elements(By.XPATH,'//p[@class=\"truncate\"]')\n",
    "for i in desc:\n",
    "    des_4.append(i.text)"
   ]
  },
  {
   "cell_type": "code",
   "execution_count": 30,
   "id": "81040818",
   "metadata": {},
   "outputs": [],
   "source": [
    "attri = driver.find_elements(By.XPATH,'//div[@class=\"my-2 hidden gap-4 md:grid grid-cols-9\"]')\n",
    "for i in attri:\n",
    "    attr_1.append(i.text)"
   ]
  },
  {
   "cell_type": "code",
   "execution_count": 32,
   "id": "923c97a0",
   "metadata": {},
   "outputs": [
    {
     "data": {
      "text/html": [
       "<div>\n",
       "<style scoped>\n",
       "    .dataframe tbody tr th:only-of-type {\n",
       "        vertical-align: middle;\n",
       "    }\n",
       "\n",
       "    .dataframe tbody tr th {\n",
       "        vertical-align: top;\n",
       "    }\n",
       "\n",
       "    .dataframe thead th {\n",
       "        text-align: right;\n",
       "    }\n",
       "</style>\n",
       "<table border=\"1\" class=\"dataframe\">\n",
       "  <thead>\n",
       "    <tr style=\"text-align: right;\">\n",
       "      <th></th>\n",
       "      <th>Data Name</th>\n",
       "      <th>Data Type</th>\n",
       "      <th>No of Instance</th>\n",
       "    </tr>\n",
       "  </thead>\n",
       "  <tbody>\n",
       "    <tr>\n",
       "      <th>0</th>\n",
       "      <td>Iris</td>\n",
       "      <td>A small classic dataset from Fisher, 1936. One...</td>\n",
       "      <td>Classification\\n150 Instances\\n4 Features</td>\n",
       "    </tr>\n",
       "    <tr>\n",
       "      <th>1</th>\n",
       "      <td>Dry Bean Dataset</td>\n",
       "      <td>Images of 13,611 grains of 7 different registe...</td>\n",
       "      <td>Classification\\n13.61K Instances\\n16 Features</td>\n",
       "    </tr>\n",
       "    <tr>\n",
       "      <th>2</th>\n",
       "      <td>Rice (Cammeo and Osmancik)</td>\n",
       "      <td>A total of 3810 rice grain's images were taken...</td>\n",
       "      <td>Classification\\n3.81K Instances\\n7 Features</td>\n",
       "    </tr>\n",
       "    <tr>\n",
       "      <th>3</th>\n",
       "      <td>Heart Disease</td>\n",
       "      <td>4 databases: Cleveland, Hungary, Switzerland, ...</td>\n",
       "      <td>Classification\\n303 Instances\\n13 Features</td>\n",
       "    </tr>\n",
       "    <tr>\n",
       "      <th>4</th>\n",
       "      <td>Adult</td>\n",
       "      <td>Predict whether income exceeds $50K/yr based o...</td>\n",
       "      <td>Classification\\n48.84K Instances\\n14 Features</td>\n",
       "    </tr>\n",
       "    <tr>\n",
       "      <th>5</th>\n",
       "      <td>Wine</td>\n",
       "      <td>Using chemical analysis to determine the origi...</td>\n",
       "      <td>Classification\\n178 Instances\\n13 Features</td>\n",
       "    </tr>\n",
       "    <tr>\n",
       "      <th>6</th>\n",
       "      <td>Regensburg Pediatric Appendicitis</td>\n",
       "      <td>This repository holds the data from a cohort o...</td>\n",
       "      <td>Classification\\n782 Instances\\n59 Features</td>\n",
       "    </tr>\n",
       "    <tr>\n",
       "      <th>7</th>\n",
       "      <td>National Poll on Healthy Aging (NPHA)</td>\n",
       "      <td>This is a subset of the NPHA dataset filtered ...</td>\n",
       "      <td>Classification\\n714 Instances\\n15 Features</td>\n",
       "    </tr>\n",
       "    <tr>\n",
       "      <th>8</th>\n",
       "      <td>Infrared Thermography Temperature</td>\n",
       "      <td>The Infrared Thermography Temperature Dataset ...</td>\n",
       "      <td>Regression\\n1.02K Instances\\n33 Features</td>\n",
       "    </tr>\n",
       "    <tr>\n",
       "      <th>9</th>\n",
       "      <td>Jute Pest</td>\n",
       "      <td>This dataset has 17 classes. Data are divided ...</td>\n",
       "      <td>Classification, Other\\n7.24K Instances\\n17 Fea...</td>\n",
       "    </tr>\n",
       "    <tr>\n",
       "      <th>10</th>\n",
       "      <td>Differentiated Thyroid Cancer Recurrence</td>\n",
       "      <td>This data set contains 13 clinicopathologic fe...</td>\n",
       "      <td>Classification\\n383 Instances\\n16 Features</td>\n",
       "    </tr>\n",
       "    <tr>\n",
       "      <th>11</th>\n",
       "      <td>Forty soybean cultivars from subsequent harvests</td>\n",
       "      <td>Soybean cultivation is one of the most importa...</td>\n",
       "      <td>Classification, Regression, Clustering, Other\\...</td>\n",
       "    </tr>\n",
       "  </tbody>\n",
       "</table>\n",
       "</div>"
      ],
      "text/plain": [
       "                                           Data Name  \\\n",
       "0                                               Iris   \n",
       "1                                   Dry Bean Dataset   \n",
       "2                         Rice (Cammeo and Osmancik)   \n",
       "3                                      Heart Disease   \n",
       "4                                              Adult   \n",
       "5                                               Wine   \n",
       "6                  Regensburg Pediatric Appendicitis   \n",
       "7              National Poll on Healthy Aging (NPHA)   \n",
       "8                  Infrared Thermography Temperature   \n",
       "9                                          Jute Pest   \n",
       "10          Differentiated Thyroid Cancer Recurrence   \n",
       "11  Forty soybean cultivars from subsequent harvests   \n",
       "\n",
       "                                            Data Type  \\\n",
       "0   A small classic dataset from Fisher, 1936. One...   \n",
       "1   Images of 13,611 grains of 7 different registe...   \n",
       "2   A total of 3810 rice grain's images were taken...   \n",
       "3   4 databases: Cleveland, Hungary, Switzerland, ...   \n",
       "4   Predict whether income exceeds $50K/yr based o...   \n",
       "5   Using chemical analysis to determine the origi...   \n",
       "6   This repository holds the data from a cohort o...   \n",
       "7   This is a subset of the NPHA dataset filtered ...   \n",
       "8   The Infrared Thermography Temperature Dataset ...   \n",
       "9   This dataset has 17 classes. Data are divided ...   \n",
       "10  This data set contains 13 clinicopathologic fe...   \n",
       "11  Soybean cultivation is one of the most importa...   \n",
       "\n",
       "                                       No of Instance  \n",
       "0           Classification\\n150 Instances\\n4 Features  \n",
       "1       Classification\\n13.61K Instances\\n16 Features  \n",
       "2         Classification\\n3.81K Instances\\n7 Features  \n",
       "3          Classification\\n303 Instances\\n13 Features  \n",
       "4       Classification\\n48.84K Instances\\n14 Features  \n",
       "5          Classification\\n178 Instances\\n13 Features  \n",
       "6          Classification\\n782 Instances\\n59 Features  \n",
       "7          Classification\\n714 Instances\\n15 Features  \n",
       "8            Regression\\n1.02K Instances\\n33 Features  \n",
       "9   Classification, Other\\n7.24K Instances\\n17 Fea...  \n",
       "10         Classification\\n383 Instances\\n16 Features  \n",
       "11  Classification, Regression, Clustering, Other\\...  "
      ]
     },
     "execution_count": 32,
     "metadata": {},
     "output_type": "execute_result"
    }
   ],
   "source": [
    "import pandas as pd\n",
    "df = pd.DataFrame({'Data Name':data_2,'Data Type':des_4,'No of Instance':attr_1})\n",
    "df"
   ]
  },
  {
   "cell_type": "code",
   "execution_count": null,
   "id": "7b3dd15f",
   "metadata": {},
   "outputs": [],
   "source": []
  }
 ],
 "metadata": {
  "kernelspec": {
   "display_name": "Python 3 (ipykernel)",
   "language": "python",
   "name": "python3"
  },
  "language_info": {
   "codemirror_mode": {
    "name": "ipython",
    "version": 3
   },
   "file_extension": ".py",
   "mimetype": "text/x-python",
   "name": "python",
   "nbconvert_exporter": "python",
   "pygments_lexer": "ipython3",
   "version": "3.11.5"
  }
 },
 "nbformat": 4,
 "nbformat_minor": 5
}
